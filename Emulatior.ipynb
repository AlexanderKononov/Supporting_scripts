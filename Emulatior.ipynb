{
 "metadata": {
  "name": "",
  "signature": "sha256:3a4a04425b8f11ef8d595599cb53a05e4736fc090ad774e43144c7a2f98e2431"
 },
 "nbformat": 3,
 "nbformat_minor": 0,
 "worksheets": [
  {
   "cells": [
    {
     "cell_type": "code",
     "collapsed": false,
     "input": [
      "import numpy as np\n",
      "import random\n",
      "import copy\n",
      "\n",
      "#N_observ=10\n",
      "#N_subclones=2\n",
      "N_observ=int(raw_input('Size of emulated data?'))\n",
      "N_subclones=int(raw_input('Number of emulated subclones?'))\n",
      "norm_data=np.zeros((N_observ,3))\n",
      "\n",
      "# DP Emulate\n",
      "for i in norm_data:\n",
      "    i[0]=1\n",
      "    candidat=random.randint(1, N_observ*100)\n",
      "    while candidat in norm_data[:,1]:\n",
      "        candidat=random.randint(1, N_observ*100)\n",
      "    i[1]=candidat\n",
      "    i[2]=int(random.normalvariate(100, 20))\n",
      "norm_data=norm_data[np.argsort(norm_data[:,1])]\n",
      "\n",
      "# Subclones Emulate\n",
      "SC=[]\n",
      "change_CN=[0, 0.5, 1.5,2]\n",
      "for i in range(N_subclones):\n",
      "    SC.append(copy.deepcopy(norm_data))\n",
      "    coint=0\n",
      "    evol_case=random.randint(N_observ//10,N_observ//5)\n",
      "    while coint < evol_case:\n",
      "        ch_obs=random.randint(0,len(SC[i])-1)\n",
      "        x_mean=(SC[i][ch_obs][2]*change_CN[random.randint(0,3)])\n",
      "        SC[i][ch_obs][2]=int(random.normalvariate(x_mean, 5))\n",
      "        coint+=1\n",
      "\n",
      "data=copy.deepcopy(norm_data)\n",
      "for i in range(len(data)):\n",
      "    for j in SC:\n",
      "        data[i][2]+=j[i][2]\n",
      "    data[i][2]/=(len(SC)+1)\n",
      "    data[i][2]=int(data[i][2])\n",
      "        \n",
      "# Output\n",
      "CNA=open('CNA_Emulate.txt', 'w')\n",
      "for i in data:\n",
      "    CNA.write(str(int(i[0]))+'\\t'+str(int(i[1]))+'\\t'+str(int(i[2]))+'\\n')\n",
      "CNA.close()\n",
      "\n",
      "#print(data)"
     ],
     "language": "python",
     "metadata": {},
     "outputs": [
      {
       "name": "stdout",
       "output_type": "stream",
       "stream": "stdout",
       "text": [
        "Size of emulated data?100\n"
       ]
      },
      {
       "name": "stdout",
       "output_type": "stream",
       "stream": "stdout",
       "text": [
        "Number of emulated subclones?3\n"
       ]
      }
     ],
     "prompt_number": 120
    },
    {
     "cell_type": "code",
     "collapsed": false,
     "input": [],
     "language": "python",
     "metadata": {},
     "outputs": []
    }
   ],
   "metadata": {}
  }
 ]
}