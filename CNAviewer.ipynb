{
 "metadata": {
  "name": "",
  "signature": "sha256:42dc84e5f8569908c479bc7eb57351a8fa1ac1c4ab556996afe1589ff2878117"
 },
 "nbformat": 3,
 "nbformat_minor": 0,
 "worksheets": [
  {
   "cells": [
    {
     "cell_type": "code",
     "collapsed": false,
     "input": [
      "import numpy as np\n",
      "import matplotlib.pyplot as plt\n",
      "\n",
      "\n",
      "wey=raw_input('Target file')\n",
      "#We introduce either the range through \"-\" or simply a number\n",
      "what_part=raw_input('What part of data you want to view? (in %)')\n",
      "part=[]\n",
      "p=what_part.split('-')\n",
      "if len(p)==2:\n",
      "    part.append(int(p[0].strip()))\n",
      "    part.append(int(p[1].strip()))\n",
      "else:\n",
      "    part.append(0)\n",
      "    part.append(int(p[0].strip()))\n",
      "print(part[0], part[1])    \n",
      "\n",
      "#\u0421hoose a part of the data\n",
      "data=[]\n",
      "file_logR =open(wey, 'r')\n",
      "coint=0.0\n",
      "size=sum(1 for l in open(wey, 'r'))\n",
      "for line in file_logR:\n",
      "    coint+=1\n",
      "    if part[0]<((coint/size)*100)<part[1]:\n",
      "        sep_line=line.split()\n",
      "        data.append(sep_line)\n",
      "    else:\n",
      "        continue\n",
      "print('----downloaded----')\n",
      "\n",
      "data.pop(0)   #delite first string\n",
      "    \n",
      "fig=plt.figure()\n",
      "\n",
      "#Drawing LogR\n",
      "ax=fig.add_axes([0.08,0.55,0.9,0.4])\n",
      "for i in data:\n",
      "    x1=np.array([float(i[3]), float(i[4])])\n",
      "    y1=np.array([float(i[13]),float(i[13])])\n",
      "    plt.plot(x1, y1, linewidth=6, color='black')\n",
      "    plt.ylabel('LogR')\n",
      "print('----LogR has been comleted----')\n",
      "    \n",
      "#Drawing BAF\n",
      "ax=fig.add_axes([0.08,0.05,0.9,0.4])\n",
      "for i in data:\n",
      "    x2=np.array([int(i[3]), int(i[4])])\n",
      "    if i[11]=='NA':\n",
      "        y2A=np.array([0,0])\n",
      "        plt.plot(x2, y2A, linewidth=6, color='black')\n",
      "        y2B=np.array([1,1])\n",
      "        plt.plot(x2, y2B, linewidth=6, color='black')\n",
      "    else:\n",
      "        y2B=np.array([float(i[11]),float(i[11])])\n",
      "        plt.plot(x2, y2B, linewidth=6, color='black')\n",
      "        y2A=np.array([1-float(i[11]),1-float(i[11])])\n",
      "        plt.plot(x2, y2A, linewidth=6, color='black')\n",
      "plt.ylabel('BAF')\n",
      "\n",
      "print('----BAF has been comleted----')\n",
      "#plt.savefig('newFig', fmt='pdf')\n",
      "\n",
      "plt.show()\n"
     ],
     "language": "python",
     "metadata": {},
     "outputs": [
      {
       "name": "stdout",
       "output_type": "stream",
       "stream": "stdout",
       "text": [
        "Target filet.csv\n"
       ]
      },
      {
       "name": "stdout",
       "output_type": "stream",
       "stream": "stdout",
       "text": [
        "What part of data you want to view? (in %)100\n"
       ]
      },
      {
       "output_type": "stream",
       "stream": "stdout",
       "text": [
        "(0, 100)\n",
        "----downloaded----\n",
        "----LogR has been comleted----"
       ]
      },
      {
       "output_type": "stream",
       "stream": "stdout",
       "text": [
        "\n",
        "----BAF has been comleted----"
       ]
      },
      {
       "output_type": "stream",
       "stream": "stdout",
       "text": [
        "\n"
       ]
      }
     ],
     "prompt_number": 108
    },
    {
     "cell_type": "code",
     "collapsed": false,
     "input": [],
     "language": "python",
     "metadata": {},
     "outputs": []
    }
   ],
   "metadata": {}
  }
 ]
}